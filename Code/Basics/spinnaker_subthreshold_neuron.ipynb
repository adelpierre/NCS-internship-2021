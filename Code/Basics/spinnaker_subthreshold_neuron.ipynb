{
 "cells": [
  {
   "cell_type": "code",
   "execution_count": 1,
   "metadata": {},
   "outputs": [
    {
     "name": "stdout",
     "output_type": "stream",
     "text": [
      "Detected PyNN version 0.9.4 and Neo version 0.6.1\n"
     ]
    }
   ],
   "source": [
    "import socket\n",
    "import spynnaker8 as p\n",
    "from pyNN.random import NumpyRNG, RandomDistribution\n",
    "from pyNN.utility.plotting import Figure, Panel\n",
    "import matplotlib.pyplot as plt\n",
    "import pdb\n",
    "import numpy as np\n",
    "from numpy import genfromtxt\n",
    "import os\n",
    "import time\n"
   ]
  },
  {
   "cell_type": "code",
   "execution_count": 2,
   "metadata": {},
   "outputs": [
    {
     "name": "stderr",
     "output_type": "stream",
     "text": [
      "2020-12-16 11:26:39 INFO: Read cfg files: /home/jprb/myspin/lib/python3.6/site-packages/spinn_front_end_common/interface/spinnaker.cfg, /home/jprb/myspin/lib/python3.6/site-packages/spynnaker/pyNN/spynnaker.cfg, /home/jprb/.spynnaker.cfg\n",
      "2020-12-16 11:26:39 INFO: Will search these locations for binaries: /home/jprb/myspin/lib/python3.6/site-packages/spinn_front_end_common/common_model_binaries : /home/jprb/myspin/lib/python3.6/site-packages/spynnaker/pyNN/model_binaries\n",
      "2020-12-16 11:26:39 WARNING: /home/jprb/SpiNNorse/reports has 18 old reports that have not been closed\n",
      "2020-12-16 11:26:39 WARNING: /home/jprb/SpiNNorse/application_generated_data_files has 18 old reports that have not been closed\n",
      "2020-12-16 11:26:39 INFO: Setting time scale factor to 1.\n",
      "2020-12-16 11:26:39 INFO: Setting machine time step to 1000 micro-seconds.\n"
     ]
    },
    {
     "name": "stdout",
     "output_type": "stream",
     "text": [
      "['/home/jprb/myspin/lib/python3.6/site-packages/spinn_front_end_common/interface/spinnaker.cfg', '/home/jprb/myspin/lib/python3.6/site-packages/spynnaker/pyNN/spynnaker.cfg', '/home/jprb/.spynnaker.cfg']\n"
     ]
    }
   ],
   "source": [
    "\n",
    "\n",
    "dt = 1           # (ms) simulation timestep\n",
    "delay = 2*dt\n",
    "\n",
    "# Architecture\n",
    "n_l1 = 1 # number of cells in layer 1\n",
    "\n",
    "\n",
    "# === Build the network ===\n",
    "\n",
    "node_id = p.setup(timestep=dt, min_delay=delay, max_delay=delay)\n",
    "\n",
    "#  100 neurons per core\n",
    "p.set_number_of_neurons_per_core(p.IF_curr_exp, 100)\n",
    "\n",
    "cell_params = {'tau_m': 20.0,\n",
    "               'tau_syn_E': 5.0,\n",
    "               'tau_syn_I': 5.0,\n",
    "               'v_rest': -65.0,\n",
    "               'v_reset': -65.0,\n",
    "               'v_thresh': -50.0,\n",
    "               'tau_refrac': 0.1,\n",
    "               'cm': 1,\n",
    "               'i_offset': 0.0\n",
    "               }\n"
   ]
  },
  {
   "cell_type": "code",
   "execution_count": 3,
   "metadata": {},
   "outputs": [],
   "source": [
    "# spike_files = os.listdir('summary/common/')\n",
    "# for f in spike_files:\n",
    "#     # Simulation data\n",
    "#     sfn = f.replace('.csv','')\n",
    "sfn = \"spikes_5\"\n",
    "i_spikes = genfromtxt(\"summary/common/\"+ sfn +\".csv\", delimiter=',')\n",
    "i_indexes = np.where(i_spikes>0)"
   ]
  },
  {
   "cell_type": "code",
   "execution_count": 4,
   "metadata": {},
   "outputs": [
    {
     "name": "stdout",
     "output_type": "stream",
     "text": [
      "Creating cell populations in node 0 ...\n",
      "Connecting populations  in node 0 ...\n",
      "Setting up recording in node 0 ...\n"
     ]
    }
   ],
   "source": [
    "# Populations\n",
    "print(\"Creating cell populations in node %s ...\" % node_id)\n",
    "celltype = p.IF_curr_exp\n",
    "cells_l1 = p.Population(n_l1, celltype(**cell_params), label=\"Layer_1\")\n",
    "\n",
    "spike_train_1 = p.SpikeSourceArray(spike_times=(i_indexes))\n",
    "cells_l0 = p.Population(1,spike_train_1)\n",
    "\n",
    "# Connectivity\n",
    "print(\"Connecting populations  in node %s ...\" % node_id)\n",
    "cell_conn = p.AllToAllConnector()\n",
    "# w = 0.0525\n",
    "w = 1.3\n",
    "connections = { 'i1l1': p.Projection(cells_l0, cells_l1, cell_conn,\n",
    "                        receptor_type='excitatory',\n",
    "                        synapse_type=p.StaticSynapse(weight=w, delay=delay))}\n",
    "\n",
    "# === Setup recording ===\n",
    "print(\"Setting up recording in node %s ...\" % node_id)\n",
    "cells_l1.record([\"v\",\"spikes\"])\n",
    "cells_l0.record([\"spikes\"])"
   ]
  },
  {
   "cell_type": "code",
   "execution_count": 5,
   "metadata": {},
   "outputs": [
    {
     "name": "stderr",
     "output_type": "stream",
     "text": [
      "2020-12-16 11:26:39 INFO: Simulating for 200 1.0ms timesteps using a hardware timestep of 1000us\n",
      "2020-12-16 11:26:39 INFO: Starting execution process\n",
      "2020-12-16 11:26:39 INFO: Creating transceiver for 192.168.240.1\n",
      "2020-12-16 11:26:39 INFO: Working out if machine is booted\n",
      "2020-12-16 11:26:39 INFO: Found board with version [Version: SC&MP 3.2.5 at SpiNNaker:0:0:0 (built Thu Aug  1 10:15:06 2019)]\n",
      "2020-12-16 11:26:39 INFO: Machine communication successful\n",
      "2020-12-16 11:26:39 INFO: Detected a machine on IP address 192.168.240.1 which has 858 cores and 120.0 links\n",
      "2020-12-16 11:26:39 INFO: Time 0:00:00.022924 taken by MachineGenerator\n",
      "Pre allocating resources for Extra Monitor support vertices\n",
      "|0%                          50%                         100%|\n",
      " ============================================================\n",
      "2020-12-16 11:26:39 INFO: Time 0:00:00.031402 taken by PreAllocateResourcesForExtraMonitorSupport\n",
      "2020-12-16 11:26:40 INFO: Time 0:00:00.000285 taken by NetworkSpecificationReport\n",
      "Partitioning graph vertices\n",
      "|0%                          50%                         100%|\n",
      " ============================================================\n",
      "Partitioning graph edges\n",
      "|0%                          50%                         100%|\n",
      " ============================================================\n",
      "2020-12-16 11:26:40 INFO: Time 0:00:00.017124 taken by PartitionAndPlacePartitioner\n",
      "Generating partitioner report\n",
      "|0%                          50%                         100%|\n",
      " ============================================================\n",
      "2020-12-16 11:26:40 INFO: Time 0:00:00.007231 taken by PartitionerReport\n",
      "Allocating virtual identifiers\n",
      "|0%                          50%                         100%|\n",
      " ================"
     ]
    },
    {
     "name": "stdout",
     "output_type": "stream",
     "text": [
      "0 Running simulation...\n"
     ]
    },
    {
     "name": "stderr",
     "output_type": "stream",
     "text": [
      "============================================\n",
      "2020-12-16 11:26:40 INFO: Time 0:00:00.031712 taken by MallocBasedChipIDAllocator\n",
      "Inserting extra monitors into graphs\n",
      "|0%                          50%                         100%|\n",
      " ============================================================\n",
      "2020-12-16 11:26:40 INFO: Time 0:00:00.040362 taken by InsertExtraMonitorVerticesToGraphs\n",
      "Writing the board chip report\n",
      "|0%                          50%                         100%|\n",
      " ============================================================\n",
      "2020-12-16 11:26:40 INFO: Time 0:00:00.007821 taken by BoardChipReport\n",
      "Filtering edges\n",
      "|0%                          50%                         100%|\n",
      " ============================================================\n",
      "2020-12-16 11:26:40 INFO: Time 0:00:00.029436 taken by GraphEdgeFilter\n",
      "Placing graph vertices\n",
      "|0%                          50%                         100%|\n",
      " ============================================================\n",
      "2020-12-16 11:26:40 INFO: Time 0:00:00.039867 taken by OneToOnePlacer\n",
      "Inserting edges between vertices which require FR speed up functionality.\n",
      "|0%                          50%                         100%|\n",
      " ============================================================\n",
      "2020-12-16 11:26:40 INFO: Time 0:00:00.050534 taken by InsertEdgesToExtraMonitorFunctionality\n",
      "Generating routing tables for data in system processes\n",
      "|0%                          50%                         100%|\n",
      " ============================================================\n",
      "2020-12-16 11:26:40 INFO: Time 0:00:00.009345 taken by DataInMulticastRoutingGenerator\n",
      "Generating fixed router routes\n",
      "|0%                          50%                         100%|\n",
      " ============================================================\n",
      "2020-12-16 11:26:40 INFO: Time 0:00:00.008665 taken by FixedRouteRouter\n",
      "Generating placement report\n",
      "|0%                          50%                         100%|\n",
      " ============================================================\n",
      "Generating placement by core report\n",
      "|0%                          50%                         100%|\n",
      " ============================================================\n",
      "2020-12-16 11:26:40 INFO: Time 0:00:00.051278 taken by PlacerReportWithApplicationGraph\n",
      "Routing\n",
      "|0%                          50%                         100%|\n",
      " ============================================================\n",
      "\n",
      "2020-12-16 11:26:40 INFO: Time 0:00:00.021977 taken by NerRoute\n",
      "Discovering tags\n",
      "|0%                          50%                         100%|\n",
      " ============================================================\n",
      "Allocating tags\n",
      "|0%                          50%                         100%|\n",
      " ============================================================\n",
      "2020-12-16 11:26:40 INFO: Time 0:00:00.042736 taken by BasicTagAllocator\n",
      "Reporting Tags\n",
      "|0%                          50%                         100%|\n",
      " ============================================================\n",
      "2020-12-16 11:26:40 INFO: Time 0:00:00.009261 taken by TagReport\n",
      "Getting number of keys required by each edge using application graph\n",
      "|0%                          50%                         100%|\n",
      " ============================================================\n",
      "2020-12-16 11:26:40 INFO: Time 0:00:00.023360 taken by EdgeToNKeysMapper\n",
      "Getting constraints for application graph\n",
      "|0%                          50%                         100%|\n",
      " ============================================================\n",
      "2020-12-16 11:26:40 INFO: Time 0:00:00.031314 taken by ProcessPartitionConstraints\n",
      "Allocating routing keys\n",
      "|0%                          50%                         100%|\n",
      " ============================================================\n",
      "2020-12-16 11:26:40 INFO: Time 0:00:00.005357 taken by MallocBasedRoutingInfoAllocator\n",
      "Generating Routing info report\n",
      "|0%                          50%                         100%|\n",
      " ============================================================\n",
      "2020-12-16 11:26:40 INFO: Time 0:00:00.031637 taken by routingInfoReports\n",
      "Generating routing tables\n",
      "|0%                          50%                         100%|\n",
      " ============================================================\n",
      "2020-12-16 11:26:40 INFO: Time 0:00:00.028675 taken by BasicRoutingTableGenerator\n",
      "Finding executable start types\n",
      "|0%                          50%                         100%|\n",
      " ============================================================\n",
      "2020-12-16 11:26:40 INFO: Time 0:00:00.028408 taken by LocateExecutableStartType\n",
      "Initialising buffers\n",
      "|0%                          50%                         100%|\n",
      " ============================================================\n",
      "2020-12-16 11:26:40 INFO: Time 0:00:00.023110 taken by BufferManagerCreator\n",
      "Generating data specifications\n",
      "|0%                          50%                         100%|\n",
      " ============================================================\n",
      "2020-12-16 11:26:40 INFO: Time 0:00:00.078983 taken by SpynnakerDataSpecificationWriter\n",
      "Preparing Routing Tables\n",
      "|0%                          50%                         100%|\n",
      " ============================================================\n",
      "2020-12-16 11:26:40 INFO: Time 0:00:00.009416 taken by RoutingSetup\n",
      "Finding binaries\n",
      "|0%                          50%                         100%|\n",
      " ============================================================\n",
      "2020-12-16 11:26:40 INFO: Time 0:00:00.033907 taken by GraphBinaryGatherer\n",
      "Running routing table compression on chip\n",
      "|0%                          50%                         100%|\n",
      " ============================================================\n",
      "2020-12-16 11:26:45 INFO: Time 0:00:04.525379 taken by MundyOnChipRouterCompression\n",
      "Generating Router table report\n",
      "|0%                          50%                         100%|\n",
      " ============================================================\n",
      "2020-12-16 11:26:45 INFO: Time 0:00:00.006470 taken by unCompressedRoutingTableReports\n",
      "loading fixed routes\n",
      "|0%                          50%                         100%|\n",
      " ============================================================\n",
      "2020-12-16 11:26:45 INFO: Time 0:00:00.041182 taken by LoadFixedRoutes\n",
      "Executing data specifications and loading data for system vertices\n",
      "|0%                          50%                         100%|\n",
      " ============================================================\n",
      "2020-12-16 11:26:45 INFO: Time 0:00:00.160980 taken by HostExecuteSystemDataSpecification\n",
      "Loading system executables onto the machine\n",
      "|0%                          50%                         100%|\n",
      " ============================================================\n",
      "2020-12-16 11:26:52 INFO: Time 0:00:06.702933 taken by LoadSystemExecutableImages\n",
      "Clearing tags\n",
      "|0%                          50%                         100%|\n",
      " ============================================================\n",
      "Loading Tags\n",
      "|0%                          50%                         100%|\n",
      " ============================================================\n",
      "2020-12-16 11:26:52 INFO: Time 0:00:00.024124 taken by TagsLoader\n",
      "Writing data\n",
      "|0%                          50%                         100%|\n",
      " ============================================================\n",
      "2020-12-16 11:26:52 INFO: Time 0:00:00.029518 taken by WriteMemoryIOData\n",
      "Executing data specifications and loading data for application vertices\n",
      "|0%                          50%                         100%|\n",
      " ============================================================\n",
      "2020-12-16 11:26:52 INFO: Time 0:00:00.135790 taken by HostExecuteApplicationDataSpecification\n",
      "Expanding Synapses\n",
      "|0%                          50%                         100%|\n",
      " ============================================================\n",
      "2020-12-16 11:26:56 INFO: Time 0:00:03.752259 taken by SynapseExpander\n",
      "Writing fixed route report\n",
      "|0%                          50%                         100%|\n",
      " ============================================================\n",
      "2020-12-16 11:26:56 INFO: Time 0:00:00.082112 taken by FixedRouteFromMachineReport\n",
      "Loading executables onto the machine\n",
      "|0%                          50%                         100%|\n",
      " ============================================================\n",
      "2020-12-16 11:27:02 INFO: Time 0:00:06.744317 taken by LoadApplicationExecutableImages\n",
      "Reading Routing Tables from Machine\n",
      "|0%                          50%                         100%|\n"
     ]
    },
    {
     "name": "stderr",
     "output_type": "stream",
     "text": [
      " ============================================================\n",
      "2020-12-16 11:27:02 INFO: Time 0:00:00.014724 taken by RoutingTableFromMachineReport\n",
      "Generating compressed router table report\n",
      "|0%                          50%                         100%|\n",
      " ============================================================\n",
      "2020-12-16 11:27:02 INFO: Time 0:00:00.006782 taken by compressedRoutingTableReports\n",
      "Generating comparison of router table report\n",
      "|0%                          50%                         100%|\n",
      " ============================================================\n",
      "2020-12-16 11:27:02 INFO: Time 0:00:00.006390 taken by comparisonOfRoutingTablesReport\n",
      "2020-12-16 11:27:02 INFO: Running for 1 steps for a total of 200.0ms\n",
      "2020-12-16 11:27:02 INFO: Run 1 of 1\n",
      "Generating SDRAM usage report\n",
      "|0%                          50%                         100%|\n",
      " ============================================================\n",
      "2020-12-16 11:27:03 INFO: Time 0:00:00.063294 taken by SdramUsageReportPerChip\n",
      "Updating run time\n",
      "|0%                          50%                         100%|\n",
      " ============================================================\n",
      "2020-12-16 11:27:03 INFO: Time 0:00:00.029287 taken by ChipRuntimeUpdater\n",
      "2020-12-16 11:27:03 INFO: Time 0:00:00.000356 taken by DatabaseInterface\n",
      "2020-12-16 11:27:03 INFO: ** Notifying external sources that the database is ready for reading **\n",
      "2020-12-16 11:27:03 INFO: Time 0:00:00.000499 taken by NotificationProtocol\n",
      "2020-12-16 11:27:03 INFO: *** Running simulation... *** \n",
      "Loading buffers\n",
      "|0%                          50%                         100%|\n",
      " ============================================================\n",
      "2020-12-16 11:27:03 INFO: ** Awaiting for a response from an external source to state its ready for the simulation to start **\n",
      "2020-12-16 11:27:03 INFO: ** Sending start / resume message to external sources to state the simulation has started or resumed. **\n",
      "2020-12-16 11:27:03 INFO: ** Awaiting for a response from an external source to state its ready for the simulation to start **\n",
      "2020-12-16 11:27:03 INFO: Application started; waiting 0.30000000000000004s for it to stop\n",
      "2020-12-16 11:27:03 INFO: ** Sending pause / stop message to external sources to state the simulation has been paused or stopped. **\n",
      "2020-12-16 11:27:03 INFO: Time 0:00:00.389734 taken by ApplicationRunner\n",
      "Extracting buffers from the last run\n",
      "|0%                          50%                         100%|\n",
      " ============================================================\n",
      "2020-12-16 11:27:03 INFO: Time 0:00:00.097071 taken by BufferExtractor\n",
      "Getting provenance data from machine graph\n",
      "|0%                          50%                         100%|\n",
      " ============================================================\n",
      "Getting provenance data from application graph\n",
      "|0%                          50%                         100%|\n",
      " ============================================================\n",
      "2020-12-16 11:27:03 INFO: Time 0:00:00.067252 taken by GraphProvenanceGatherer\n",
      "Getting provenance data\n",
      "|0%                          50%                         100%|\n",
      " ============================================================\n",
      "2020-12-16 11:27:03 INFO: Time 0:00:00.027608 taken by PlacementsProvenanceGatherer\n",
      "Getting Router Provenance\n",
      "|0%                          50%                         100%|\n",
      " ============================================================\n",
      "2020-12-16 11:27:03 INFO: Time 0:00:00.050956 taken by RouterProvenanceGatherer\n",
      "Getting profile data\n",
      "|0%                          50%                         100%|\n",
      " ============================================================\n",
      "2020-12-16 11:27:03 INFO: Time 0:00:00.028079 taken by ProfileDataGatherer\n"
     ]
    },
    {
     "data": {
      "text/plain": [
       "200.0"
      ]
     },
     "execution_count": 5,
     "metadata": {},
     "output_type": "execute_result"
    }
   ],
   "source": [
    "# === Run simulation ===\n",
    "print(\"%d Running simulation...\" % node_id)\n",
    "p.run(len(i_spikes))"
   ]
  },
  {
   "cell_type": "code",
   "execution_count": 6,
   "metadata": {},
   "outputs": [
    {
     "name": "stderr",
     "output_type": "stream",
     "text": [
      "Getting v for Layer_1\n",
      "|0%                          50%                         100%|\n",
      " ============================================================\n",
      "Getting spikes for Layer_1\n",
      "|0%                          50%                         100%|\n",
      " ============================================================\n",
      "Getting spikes for SpikeSourceArrayVertex_1\n",
      "|0%                          50%                         100%|\n",
      " ============================================================\n"
     ]
    }
   ],
   "source": [
    "\n",
    "# === Print results to file ===\n",
    "\n",
    "l1_voltage = cells_l1.get_data(\"v\")\n",
    "l1_spikes = cells_l1.get_data(\"spikes\")\n",
    "in_spikes = cells_l0.get_data(\"spikes\")\n",
    "\n",
    "# === Finished with simulator ===\n",
    "\n",
    "p.end()\n",
    "time.sleep(10)\n"
   ]
  },
  {
   "cell_type": "code",
   "execution_count": 7,
   "metadata": {},
   "outputs": [
    {
     "name": "stdout",
     "output_type": "stream",
     "text": [
      "\n",
      "\n",
      "\n",
      "*********** v max = -50.464 *********** \n",
      "\n",
      "\n",
      "\n"
     ]
    }
   ],
   "source": [
    "v_array = np.array(l1_voltage.segments[0].filter(name=\"v\")[0]).reshape(-1)\n",
    "print(\"\\n\\n\\n*********** v max = %0.3f *********** \\n\\n\\n\" %(max(v_array)))\n",
    "np.savetxt(\"summary/spinnaker/\" + \"voltage_\" + sfn + \".csv\", v_array, delimiter=\",\")"
   ]
  },
  {
   "cell_type": "code",
   "execution_count": 12,
   "metadata": {},
   "outputs": [
    {
     "data": {
      "image/png": "[encoded data removed]",
      "text/plain": [
       "<Figure size 648x864 with 3 Axes>"
      ]
     },
     "metadata": {
      "needs_background": "light"
     },
     "output_type": "display_data"
    }
   ],
   "source": [
    "\n",
    "fig, axs = plt.subplots(3, figsize=(9,12))\n",
    "# fig.suptitle('SpiNNaker')\n",
    "\n",
    "axs[0].eventplot(np.asarray(in_spikes.segments[0].spiketrains), linewidths=2, colors='r')\n",
    "axs[0].set_title(\"Input Spikes\")\n",
    "axs[0].set_xlim((0,len(i_spikes)))\n",
    "axs[0].grid()\n",
    "\n",
    "axs[1].plot(v_array, linewidth=2, color='r')\n",
    "axs[1].set_title(\"Voltage\")\n",
    "axs[1].set_xlim((0,len(i_spikes)))\n",
    "axs[1].grid()\n",
    "\n",
    "axs[2].eventplot(np.asarray(l1_spikes.segments[0].spiketrains), linewidths=2, colors='r')\n",
    "axs[2].set_title(\"Output Spikes\")\n",
    "axs[2].set_xlim((0,len(i_spikes)))\n",
    "axs[2].grid()\n",
    "\n",
    "fig.savefig(\"summary/spinnaker/\" + \"All_\" + sfn + \".png\")"
   ]
  },
  {
   "cell_type": "code",
   "execution_count": null,
   "metadata": {},
   "outputs": [],
   "source": []
  }
 ],
 "metadata": {
  "kernelspec": {
   "display_name": "myspin",
   "language": "python",
   "name": "myspin"
  },
  "language_info": {
   "codemirror_mode": {
    "name": "ipython",
    "version": 3
   },
   "file_extension": ".py",
   "mimetype": "text/x-python",
   "name": "python",
   "nbconvert_exporter": "python",
   "pygments_lexer": "ipython3",
   "version": "3.6.9"
  }
 },
 "nbformat": 4,
 "nbformat_minor": 2
}

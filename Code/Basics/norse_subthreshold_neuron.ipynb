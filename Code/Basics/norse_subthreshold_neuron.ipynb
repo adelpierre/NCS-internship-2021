{
 "cells": [
  {
   "cell_type": "code",
   "execution_count": null,
   "metadata": {},
   "outputs": [],
   "source": [
    "import os\n",
    "import torch          # PyTorch\n",
    "import numpy as np    # Numpy\n",
    "import matplotlib.pyplot as plt\n",
    "%matplotlib inline\n",
    "from numpy import genfromtxt\n",
    "\n",
    "# Import a simple LIF feedforward cell\n",
    "from norse.torch.module.lif import LIFFeedForwardCell\n",
    "from norse.torch.functional.lif import LIFParameters, LIFState"
   ]
  },
  {
   "cell_type": "code",
   "execution_count": null,
   "metadata": {},
   "outputs": [],
   "source": [
    "# Timestep and Sim Duration in seconds\n",
    "dt = 0.001"
   ]
  },
  {
   "cell_type": "code",
   "execution_count": null,
   "metadata": {},
   "outputs": [],
   "source": [
    "# Cell parameters\n",
    "p=LIFParameters(tau_syn_inv=torch.tensor(1000/5.0),\n",
    "                tau_mem_inv=torch.tensor(1000/20.0), \n",
    "                v_leak=torch.tensor(-65.0),\n",
    "                v_th=torch.tensor(-50.0),\n",
    "                v_reset=torch.tensor(-65.0), \n",
    "                method='super',\n",
    "                alpha=torch.tensor(0.))\n",
    "\n",
    "\n",
    "lif_cell = LIFFeedForwardCell(p, dt)"
   ]
  },
  {
   "cell_type": "code",
   "execution_count": null,
   "metadata": {},
   "outputs": [],
   "source": [
    "# spike_files = os.listdir('summary/common/')\n",
    "# for f in spike_files:\n",
    "        \n",
    "#     # Simulation data\n",
    "#     sfn = f.replace('.csv','')\n",
    "sfn = \"spikes_5\"\n",
    "i_spikes = genfromtxt(\"summary/common/\"+ sfn +\".csv\", delimiter=',')\n",
    "i_indexes = np.where(i_spikes>0)\n",
    "\n",
    "# Perform simulation\n",
    "v = [] # voltages\n",
    "o_spikes = [] # output spikes\n",
    "neuron_state = LIFState(z=0.0, v=-65.0, i=0.0)\n",
    "w = 25.38\n",
    "for i_s in i_spikes:\n",
    "    out, neuron_state = lif_cell(i_s*w, neuron_state)\n",
    "    o_spikes.append(out.detach().numpy())\n",
    "    v.append(float(neuron_state.v))\n",
    "o_spikes = np.array(o_spikes)\n",
    "o_indexes = np.where(o_spikes>0)\n",
    "\n",
    "# Save Voltages as *.csv for further comparison\n",
    "print(\"\\n\\n\\n*********** v max = %0.3f *********** \\n\\n\\n\" %(max(v)))\n",
    "np.savetxt(\"summary/norse/\" + \"voltage_\" + sfn + \".csv\", np.array(v), delimiter=\",\")\n",
    "\n",
    "# Plot spikes and voltages\n",
    "fig, axs = plt.subplots(3, figsize=(9,12))\n",
    "\n",
    "axs[0].eventplot(i_indexes, linewidths=2, colors='g') # Plot the timesteps where the neuron spiked\n",
    "axs[0].set_title(\"Input Spikes\")\n",
    "axs[0].set_xlim((0,len(i_spikes)))\n",
    "axs[0].grid()\n",
    "\n",
    "axs[1].plot(v, linewidth=2, color='g')\n",
    "axs[1].set_title(\"Voltage\")\n",
    "axs[1].set_xlim((0,len(i_spikes)))\n",
    "axs[1].grid()\n",
    "\n",
    "axs[2].eventplot(o_indexes, linewidths=2, colors='g') # Plot the timesteps where the neuron spiked\n",
    "axs[2].set_title(\"Output Spikes\")\n",
    "axs[2].set_xlim((0,len(i_spikes)))\n",
    "axs[2].grid()\n",
    "\n",
    "fig.savefig(\"summary/norse/\" + \"All_\" + sfn + \".png\")\n"
   ]
  },
  {
   "cell_type": "code",
   "execution_count": null,
   "metadata": {},
   "outputs": [],
   "source": []
  }
 ],
 "metadata": {
  "kernelspec": {
   "display_name": "Python 3",
   "language": "python",
   "name": "python3"
  },
  "language_info": {
   "codemirror_mode": {
    "name": "ipython",
    "version": 3
   },
   "file_extension": ".py",
   "mimetype": "text/x-python",
   "name": "python",
   "nbconvert_exporter": "python",
   "pygments_lexer": "ipython3",
   "version": "3.6.9"
  }
 },
 "nbformat": 4,
 "nbformat_minor": 2
}
